{
 "cells": [
  {
   "cell_type": "markdown",
   "metadata": {
    "toc": "true"
   },
   "source": [
    "# Table of Contents\n",
    " <p><div class=\"lev1\"><a href=\"#Classes-Map\"><span class=\"toc-item-num\">1&nbsp;&nbsp;</span>Classes Map</a></div><div class=\"lev1\"><a href=\"#Creating-Maps-for-Timelapses\"><span class=\"toc-item-num\">2&nbsp;&nbsp;</span>Creating Maps for Timelapses</a></div><div class=\"lev1\"><a href=\"#Sensitivity-Maps\"><span class=\"toc-item-num\">3&nbsp;&nbsp;</span>Sensitivity Maps</a></div>"
   ]
  },
  {
   "cell_type": "code",
   "execution_count": 48,
   "metadata": {
    "ExecuteTime": {
     "end_time": "2016-05-15T22:56:58.450497",
     "start_time": "2016-05-16T02:56:58.418Z"
    },
    "collapsed": false
   },
   "outputs": [],
   "source": [
    "library(ggplot2)\n",
    "library(maps)\n",
    "library(mapdata)\n",
    "library(readr)\n",
    "\n",
    "options(jupyter.plot_mimetypes = 'image/png')"
   ]
  },
  {
   "cell_type": "code",
   "execution_count": 6,
   "metadata": {
    "ExecuteTime": {
     "end_time": "2016-05-15T20:44:57.750946",
     "start_time": "2016-05-16T00:44:57.725Z"
    },
    "collapsed": false
   },
   "outputs": [],
   "source": [
    "correction <- c(\"Antigua and Barbuda\"=\"Antigua\", \"Bahamas, The\"=\"Bahamas\", \"Brunei Darussalam\"=\"Brunei\", \n",
    "                \"Cabo Verde\"=\"Cape Verde\", \"Congo, Dem. Rep.\"=\"Democratic Republic of the Congo\",\n",
    "                \"Congo, Rep.\"=\"Republic of Congo\", \"Cote d'Ivoire\"=\"Ivory Coast\", \"Egypt, Arab Rep.\"=\"Egypt\", \n",
    "                \"Faeroe Islands\"=\"Faroe Islands\", \"Gambia, The\"=\"Gambia\", \"Iran, Islamic Rep.\"=\"Iran\", \n",
    "                \"Korea, Dem. Rep.\"=\"North Korea\", \"Korea, Rep.\"=\"South Korea\", \"Kyrgyz Republic\"=\"Kyrgyzstan\", \"Lao PDR\"=\"Laos\", \n",
    "                \"Macedonia, FYR\"=\"Macedonia\", \"Micronesia, Fed. Sts.\"=\"Micronesia\", \"Russian Federation\"=\"Russia\", \n",
    "                \"Slovak Republic\"=\"Slovakia\", \"St. Lucia\"=\"Saint Lucia\", \"St. Martin (French part)\"=\"Saint Martin\", \n",
    "                \"St. Vincent and the Grenadines\"=\"Saint Vincent\", \"Syrian Arab Republic\"=\"Syria\", \n",
    "                \"Trinidad and Tobago\"=\"Trinidad\", \"United Kingdom\"=\"UK\", \"United States\"=\"USA\", \n",
    "                \"Venezuela, RB\"=\"Venezuela\", \"Virgin Islands (U.S.)\"=\"Virgin Islands\", \"Yemen, Rep.\"=\"Yemen\")"
   ]
  },
  {
   "cell_type": "markdown",
   "metadata": {},
   "source": [
    "# Classes Map"
   ]
  },
  {
   "cell_type": "code",
   "execution_count": 87,
   "metadata": {
    "ExecuteTime": {
     "end_time": "2016-05-16T22:44:49.903808",
     "start_time": "2016-05-17T02:44:46.485Z"
    },
    "collapsed": false
   },
   "outputs": [
    {
     "data": {
      "image/png": "[encoded data removed]"
     },
     "metadata": {},
     "output_type": "display_data"
    }
   ],
   "source": [
    "df <- read.csv('data/country_classes.csv')\n",
    "\n",
    "df$Country <- as.character(df$Country)\n",
    "df$Class <- as.factor(df$Class)\n",
    "\n",
    "for (c in names((correction))) {\n",
    "  df[df$Country == c, \"Country\"] = correction[c]\n",
    "}\n",
    "\n",
    "map.world <- merge(x=map_data(map=\"world\"),\n",
    "                   y=df[,c(\"Country\",\"Class\")],\n",
    "                   by.x=\"region\",\n",
    "                   by.y=\"Country\",\n",
    "                   all.x=TRUE)\n",
    "map.world <- map.world[order(map.world$order),]\n",
    "\n",
    "cbPalette <- c(\"#56B4E9\", \"#009E73\", \"#F0E442\", \"#0072B2\", \"#D55E00\", \"#CC79A7\")\n",
    "\n",
    "p <- ggplot(map.world) +\n",
    "    geom_map(map=map.world, aes(map_id=region, x=long, y=lat), fill=\"#999999\", color=\"#7f7f7f\", size=0.25) +\n",
    "    geom_map(map=map.world, aes(map_id=region, x=long, y=lat, fill=Class)) + \n",
    "    scale_fill_manual(values=cbPalette) + \n",
    "    coord_equal() +\n",
    "    theme(axis.line=element_blank(),\n",
    "          axis.text.x=element_blank(),\n",
    "          axis.text.y=element_blank(),\n",
    "          axis.ticks=element_blank(),\n",
    "          axis.title.x=element_blank(),\n",
    "          axis.title.y=element_blank(),\n",
    "          panel.background=element_blank(),\n",
    "          panel.border=element_blank(),\n",
    "          panel.grid.major=element_blank(),\n",
    "          panel.grid.minor=element_blank(),\n",
    "          plot.background=element_blank(),\n",
    "          legend.title=element_blank(),\n",
    "          legend.position=\"bottom\") +\n",
    "    ggtitle(\"Classes in 2013\")\n",
    "ggsave(paste(\"maps/country_classes.png\"), p, width=7, height=4, units=\"in\")\n",
    "p"
   ]
  },
  {
   "cell_type": "markdown",
   "metadata": {},
   "source": [
    "# Creating Maps for Timelapses"
   ]
  },
  {
   "cell_type": "code",
   "execution_count": 85,
   "metadata": {
    "ExecuteTime": {
     "end_time": "2016-05-16T22:42:20.314412",
     "start_time": "2016-05-17T02:42:20.296Z"
    },
    "collapsed": true
   },
   "outputs": [],
   "source": [
    "plotHeatMap <- function(filename, year, title) {\n",
    "  df <- read.csv( paste(\"data/\", filename, \".csv\", sep=\"\") )\n",
    "  df$Country <- as.character(df$Country)  \n",
    "  for (c in names((correction))) {\n",
    "    df[df$Country == c, \"Country\"] = correction[c]\n",
    "  }  \n",
    "  map.world <- merge(x=map_data(map=\"world\"),\n",
    "                     y=df[,c(\"Country\",\"Value\")],\n",
    "                     by.x=\"region\",\n",
    "                     by.y=\"Country\",\n",
    "                     all.x=TRUE)\n",
    "  map.world <- map.world[order(map.world$order),]  \n",
    "  p <- ggplot(map.world) +\n",
    "    geom_map(map=map.world, aes(map_id=region, x=long, y=lat, fill=Value)) + \n",
    "    scale_fill_gradient(low = \"brown3\", high = \"green\", guide = \"colourbar\") +\n",
    "    coord_equal() +\n",
    "    theme(axis.line=element_blank(),\n",
    "          axis.text.x=element_blank(),\n",
    "          axis.text.y=element_blank(),\n",
    "          axis.ticks=element_blank(),\n",
    "          axis.title.x=element_blank(),\n",
    "          axis.title.y=element_blank(),\n",
    "          panel.background=element_blank(),\n",
    "          panel.border=element_blank(),\n",
    "          panel.grid.major=element_blank(),\n",
    "          panel.grid.minor=element_blank(),\n",
    "          plot.background=element_blank(),\n",
    "          legend.title=element_blank(),\n",
    "          legend.position=\"bottom\") +\n",
    "    ggtitle(paste(title, year, sep=\" -- \"))  \n",
    "  ggsave(paste(\"maps/\", filename, \".png\", sep=\"\"), p, width=7, height=4, units=\"in\")\n",
    "}"
   ]
  },
  {
   "cell_type": "code",
   "execution_count": 74,
   "metadata": {
    "ExecuteTime": {
     "end_time": "2016-05-16T22:14:42.813058",
     "start_time": "2016-05-17T02:14:25.505Z"
    },
    "collapsed": false
   },
   "outputs": [],
   "source": [
    "for (year in 2005:2014) {\n",
    "    plotHeatMap( paste(\"parliament_\", year, sep=\"\"), year, \"Proportion of Seats Held by Women in National Parliaments\" )\n",
    "}"
   ]
  },
  {
   "cell_type": "code",
   "execution_count": 75,
   "metadata": {
    "ExecuteTime": {
     "end_time": "2016-05-16T22:15:49.918300",
     "start_time": "2016-05-17T02:15:31.208Z"
    },
    "collapsed": true
   },
   "outputs": [],
   "source": [
    "for (year in 2005:2014) {\n",
    "    plotHeatMap( paste(\"gov_effectiveness_\", year, sep=\"\"), year, \"Government Effectiveness\" )\n",
    "}"
   ]
  },
  {
   "cell_type": "code",
   "execution_count": 77,
   "metadata": {
    "ExecuteTime": {
     "end_time": "2016-05-16T22:20:21.480448",
     "start_time": "2016-05-17T02:20:01.998Z"
    },
    "collapsed": true
   },
   "outputs": [],
   "source": [
    "for (year in 2005:2014) {\n",
    "    plotHeatMap( paste(\"gov_corruption_\", year, sep=\"\"), year, \"Control of Corruption\")\n",
    "}"
   ]
  },
  {
   "cell_type": "markdown",
   "metadata": {},
   "source": [
    "# Sensitivity Maps"
   ]
  },
  {
   "cell_type": "code",
   "execution_count": 84,
   "metadata": {
    "ExecuteTime": {
     "end_time": "2016-05-16T22:27:26.521096",
     "start_time": "2016-05-17T02:27:19.411Z"
    },
    "collapsed": true
   },
   "outputs": [],
   "source": [
    "plotHeatMap( \"global_GE_sensitivity\", 2013, \"Government Effectiveness Sensitivity to Women in Parliament (Global)\" )\n",
    "plotHeatMap( \"class0_GE_sensitivity\", 2013, \"Government Effectiveness Sensitivity to Women in Parliament (Class 0)\" )\n",
    "plotHeatMap( \"class1_GE_sensitivity\", 2013, \"Government Effectiveness Sensitivity to Women in Parliament (Class 1)\" )\n",
    "plotHeatMap( \"class2_GE_sensitivity\", 2013, \"Government Effectiveness Sensitivity to Women in Parliament (Class 2)\" )"
   ]
  }
 ],
 "metadata": {
  "hide_input": false,
  "kernelspec": {
   "display_name": "R",
   "language": "R",
   "name": "ir"
  },
  "language_info": {
   "codemirror_mode": "r",
   "file_extension": ".r",
   "mimetype": "text/x-r-source",
   "name": "R",
   "pygments_lexer": "r",
   "version": "3.2.3"
  },
  "toc": {
   "toc_cell": true,
   "toc_number_sections": true,
   "toc_section_display": "block",
   "toc_threshold": 6,
   "toc_window_display": true
  },
  "toc_position": {
   "height": "123px",
   "left": "1654.25px",
   "right": "20px",
   "top": "71px",
   "width": "244px"
  }
 },
 "nbformat": 4,
 "nbformat_minor": 0
}
